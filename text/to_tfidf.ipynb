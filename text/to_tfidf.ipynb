{
 "cells": [
  {
   "cell_type": "code",
   "execution_count": 1,
   "id": "iLAIGmCwXG_9",
   "metadata": {
    "colab": {
     "base_uri": "https://localhost:8080/"
    },
    "executionInfo": {
     "elapsed": 2537,
     "status": "ok",
     "timestamp": 1651991777108,
     "user": {
      "displayName": "李映辰",
      "userId": "02446792374095967699"
     },
     "user_tz": -480
    },
    "id": "iLAIGmCwXG_9",
    "outputId": "194aa338-2ab7-4a59-c690-db7ce8a136d9"
   },
   "outputs": [
    {
     "data": {
      "text/plain": [
       "\"\\nfrom google.colab import drive\\ndrive.mount('/content/drive')\\n%cd /content/drive/MyDrive/598-DLH/\\n%ls\\n\""
      ]
     },
     "execution_count": 1,
     "metadata": {},
     "output_type": "execute_result"
    }
   ],
   "source": [
    "'''\n",
    "from google.colab import drive\n",
    "drive.mount('/content/drive')\n",
    "%cd /content/drive/MyDrive/598-DLH/\n",
    "%ls\n",
    "'''"
   ]
  },
  {
   "cell_type": "code",
   "execution_count": 2,
   "id": "0925fe51",
   "metadata": {
    "executionInfo": {
     "elapsed": 4478,
     "status": "ok",
     "timestamp": 1651991781580,
     "user": {
      "displayName": "李映辰",
      "userId": "02446792374095967699"
     },
     "user_tz": -480
    },
    "id": "0925fe51"
   },
   "outputs": [],
   "source": [
    "import pandas as pd\n",
    "import torch"
   ]
  },
  {
   "cell_type": "code",
   "execution_count": 3,
   "id": "516baa90",
   "metadata": {
    "colab": {
     "base_uri": "https://localhost:8080/",
     "height": 52
    },
    "executionInfo": {
     "elapsed": 6857,
     "status": "ok",
     "timestamp": 1651991788428,
     "user": {
      "displayName": "李映辰",
      "userId": "02446792374095967699"
     },
     "user_tz": -480
    },
    "id": "516baa90",
    "outputId": "1e0f51b9-7a36-4e41-e6a3-03f4aa289eeb"
   },
   "outputs": [
    {
     "data": {
      "text/plain": [
       "\"\\nnotes_1 = pd.read_pickle('cleaned_text_1874862_1944301.pkl')\\nnotes_2 = pd.read_pickle('cleaned_text_1944301_2013740.pkl')\\nnotes_3 = pd.read_pickle('cleaned_text_2013740_2083180.pkl')\\n\\nnotes_1 = notes_1[notes_1['text_bert'].map(lambda d: len(d)) > 0]\\nnotes_1 = notes_1[notes_1['text_tfidf'].map(lambda d: len(d)) > 0]\\nnotes_1 = notes_1.drop(columns=['text_tfidf']).reset_index(drop=True) ## I found out that we actually don't need to split it into words\\n\\nnotes_2 = notes_2[notes_2['text_bert'].map(lambda d: len(d)) > 0]\\nnotes_2 = notes_2[notes_2['text_tfidf'].map(lambda d: len(d)) > 0]\\nnotes_2 = notes_2.drop(columns=['text_tfidf']).reset_index(drop=True)\\n\\nnotes_3 = notes_3[notes_3['text_bert'].map(lambda d: len(d)) > 0]\\nnotes_3 = notes_3[notes_3['text_tfidf'].map(lambda d: len(d)) > 0]\\nnotes_3 = notes_3.drop(columns=['text_tfidf']).reset_index(drop=True)\\n\\nberts_1 = pd.read_pickle('text_bert_1874862_1944301.pkl')\\nberts_2 = pd.read_pickle('text_bert_1944301_2013740.pkl')\\nberts_3 = pd.read_pickle('text_bert_2013740_2083180.pkl')\\n\""
      ]
     },
     "execution_count": 3,
     "metadata": {},
     "output_type": "execute_result"
    }
   ],
   "source": [
    "'''\n",
    "notes_1 = pd.read_pickle('cleaned_text_1874862_1944301.pkl')\n",
    "notes_2 = pd.read_pickle('cleaned_text_1944301_2013740.pkl')\n",
    "notes_3 = pd.read_pickle('cleaned_text_2013740_2083180.pkl')\n",
    "\n",
    "notes_1 = notes_1[notes_1['text_bert'].map(lambda d: len(d)) > 0]\n",
    "notes_1 = notes_1[notes_1['text_tfidf'].map(lambda d: len(d)) > 0]\n",
    "notes_1 = notes_1.drop(columns=['text_tfidf']).reset_index(drop=True) ## I found out that we actually don't need to split it into words\n",
    "\n",
    "notes_2 = notes_2[notes_2['text_bert'].map(lambda d: len(d)) > 0]\n",
    "notes_2 = notes_2[notes_2['text_tfidf'].map(lambda d: len(d)) > 0]\n",
    "notes_2 = notes_2.drop(columns=['text_tfidf']).reset_index(drop=True)\n",
    "\n",
    "notes_3 = notes_3[notes_3['text_bert'].map(lambda d: len(d)) > 0]\n",
    "notes_3 = notes_3[notes_3['text_tfidf'].map(lambda d: len(d)) > 0]\n",
    "notes_3 = notes_3.drop(columns=['text_tfidf']).reset_index(drop=True)\n",
    "\n",
    "berts_1 = pd.read_pickle('text_bert_1874862_1944301.pkl')\n",
    "berts_2 = pd.read_pickle('text_bert_1944301_2013740.pkl')\n",
    "berts_3 = pd.read_pickle('text_bert_2013740_2083180.pkl')\n",
    "'''"
   ]
  },
  {
   "cell_type": "code",
   "execution_count": 4,
   "id": "lbVx_h0cXWxt",
   "metadata": {
    "colab": {
     "base_uri": "https://localhost:8080/",
     "height": 35
    },
    "executionInfo": {
     "elapsed": 22,
     "status": "ok",
     "timestamp": 1651991788429,
     "user": {
      "displayName": "李映辰",
      "userId": "02446792374095967699"
     },
     "user_tz": -480
    },
    "id": "lbVx_h0cXWxt",
    "outputId": "de4caa1c-8479-417e-c810-b6cb3bd2f045"
   },
   "outputs": [
    {
     "data": {
      "text/plain": [
       "'\\nprint(len(notes_1) == len(berts_1))\\nprint(len(notes_2) == len(berts_2))\\nprint(len(notes_3) == len(berts_3))\\n'"
      ]
     },
     "execution_count": 4,
     "metadata": {},
     "output_type": "execute_result"
    }
   ],
   "source": [
    "'''\n",
    "print(len(notes_1) == len(berts_1))\n",
    "print(len(notes_2) == len(berts_2))\n",
    "print(len(notes_3) == len(berts_3))\n",
    "'''"
   ]
  },
  {
   "cell_type": "code",
   "execution_count": 5,
   "id": "EQqV-QP-2SGj",
   "metadata": {
    "executionInfo": {
     "elapsed": 18,
     "status": "ok",
     "timestamp": 1651991788430,
     "user": {
      "displayName": "李映辰",
      "userId": "02446792374095967699"
     },
     "user_tz": -480
    },
    "id": "EQqV-QP-2SGj"
   },
   "outputs": [],
   "source": [
    "# notes = pd.concat((notes_1, notes_2, notes_3), axis=0)\n",
    "# berts = pd.concat((berts_1, berts_2, berts_3), axis=0)"
   ]
  },
  {
   "cell_type": "code",
   "execution_count": 6,
   "id": "N2QgSh1F2Kgs",
   "metadata": {
    "colab": {
     "base_uri": "https://localhost:8080/",
     "height": 70
    },
    "executionInfo": {
     "elapsed": 18,
     "status": "ok",
     "timestamp": 1651991788431,
     "user": {
      "displayName": "李映辰",
      "userId": "02446792374095967699"
     },
     "user_tz": -480
    },
    "id": "N2QgSh1F2Kgs",
    "outputId": "9dfd1eec-b3b4-4eca-fbe8-fbbd9ee3aa16"
   },
   "outputs": [
    {
     "data": {
      "text/plain": [
       "\"\\nnotes_filtered = notes[notes['iserror'].isnull()]\\nnotes_filtered = notes_filtered[notes_filtered['hadm_id'].notna()]\\nnotes_filtered = notes_filtered[notes_filtered['charttime'].notnull()]\\n\\nberts_filtered = berts[berts['iserror'].isnull()]\\nberts_filtered = berts_filtered[berts_filtered['hadm_id'].notna()]\\nberts_filtered = berts_filtered[berts_filtered['charttime'].notnull()]\\nberts_filtered = berts_filtered.drop(columns=['text_tfidf']).reset_index(drop=True)\\nberts_filtered = berts_filtered.drop(columns=['iserror']).reset_index(drop=True)\\n\""
      ]
     },
     "execution_count": 6,
     "metadata": {},
     "output_type": "execute_result"
    }
   ],
   "source": [
    "'''\n",
    "notes_filtered = notes[notes['iserror'].isnull()]\n",
    "notes_filtered = notes_filtered[notes_filtered['hadm_id'].notna()]\n",
    "notes_filtered = notes_filtered[notes_filtered['charttime'].notnull()]\n",
    "\n",
    "berts_filtered = berts[berts['iserror'].isnull()]\n",
    "berts_filtered = berts_filtered[berts_filtered['hadm_id'].notna()]\n",
    "berts_filtered = berts_filtered[berts_filtered['charttime'].notnull()]\n",
    "berts_filtered = berts_filtered.drop(columns=['text_tfidf']).reset_index(drop=True)\n",
    "berts_filtered = berts_filtered.drop(columns=['iserror']).reset_index(drop=True)\n",
    "'''"
   ]
  },
  {
   "cell_type": "code",
   "execution_count": 7,
   "id": "7a743ade",
   "metadata": {
    "executionInfo": {
     "elapsed": 431,
     "status": "ok",
     "timestamp": 1651991791594,
     "user": {
      "displayName": "李映辰",
      "userId": "02446792374095967699"
     },
     "user_tz": -480
    },
    "id": "7a743ade"
   },
   "outputs": [
    {
     "data": {
      "text/plain": [
       "\"\\nnotes_filtered['text_tfidf'] = notes_filtered['text_bert'].map(lambda sentences: ' '.join(sentences))\\nnotes_filtered = notes_filtered.drop(columns=['text_bert']).reset_index(drop=True)\\n\""
      ]
     },
     "execution_count": 7,
     "metadata": {},
     "output_type": "execute_result"
    }
   ],
   "source": [
    "'''\n",
    "notes_filtered['text_tfidf'] = notes_filtered['text_bert'].map(lambda sentences: ' '.join(sentences))\n",
    "notes_filtered = notes_filtered.drop(columns=['text_bert']).reset_index(drop=True)\n",
    "'''"
   ]
  },
  {
   "cell_type": "code",
   "execution_count": 8,
   "id": "OUcrqaMfYlDg",
   "metadata": {
    "executionInfo": {
     "elapsed": 4213,
     "status": "ok",
     "timestamp": 1651991826802,
     "user": {
      "displayName": "李映辰",
      "userId": "02446792374095967699"
     },
     "user_tz": -480
    },
    "id": "OUcrqaMfYlDg"
   },
   "outputs": [],
   "source": [
    "# berts_filtered.to_pickle('text_bert_1874862_2083180.pkl')\n",
    "# notes_filtered.to_pickle('cleaned_text_1874862_2083180.pkl')\n",
    "notes_filtered = pd.read_pickle('cleaned_text_1874862_2083180.pkl')"
   ]
  },
  {
   "cell_type": "code",
   "execution_count": 9,
   "id": "6937c337",
   "metadata": {
    "colab": {
     "base_uri": "https://localhost:8080/"
    },
    "executionInfo": {
     "elapsed": 15635,
     "status": "ok",
     "timestamp": 1651991262506,
     "user": {
      "displayName": "李映辰",
      "userId": "02446792374095967699"
     },
     "user_tz": -480
    },
    "id": "6937c337",
    "outputId": "5760ea8a-4232-4ec3-bd92-42f9d194fbbe"
   },
   "outputs": [
    {
     "name": "stdout",
     "output_type": "stream",
     "text": [
      "CPU times: user 12.7 s, sys: 1.75 s, total: 14.4 s\n",
      "Wall time: 13.7 s\n"
     ]
    },
    {
     "name": "stderr",
     "output_type": "stream",
     "text": [
      "/home/tim/anaconda3/envs/dl4h/lib/python3.9/site-packages/sklearn/utils/deprecation.py:87: FutureWarning: Function get_feature_names is deprecated; get_feature_names is deprecated in 1.0 and will be removed in 1.2. Please use get_feature_names_out instead.\n",
      "  warnings.warn(msg, category=FutureWarning)\n"
     ]
    }
   ],
   "source": [
    "%%time\n",
    "from sklearn.feature_extraction.text import TfidfVectorizer\n",
    "'''\n",
    "https://kavita-ganesan.com/tfidftransformer-tfidfvectorizer-usage-differences/#.YnYpfhxBylU\n",
    "https://scikit-learn.org/stable/modules/generated/sklearn.feature_extraction.text.TfidfVectorizer.html\n",
    "'''\n",
    "vectorizer = TfidfVectorizer(use_idf=True, max_df=0.3, min_df=0.004)\n",
    "tfidf_vectorizer_vectors = vectorizer.fit_transform(notes_filtered['text_tfidf'])\n",
    "\n",
    "words = vectorizer.get_feature_names()"
   ]
  },
  {
   "cell_type": "code",
   "execution_count": 10,
   "id": "BZ8Z5OHE6SQl",
   "metadata": {
    "executionInfo": {
     "elapsed": 3654,
     "status": "ok",
     "timestamp": 1651972300822,
     "user": {
      "displayName": "李映辰",
      "userId": "02446792374095967699"
     },
     "user_tz": -480
    },
    "id": "BZ8Z5OHE6SQl"
   },
   "outputs": [],
   "source": [
    "# tfidf = torch.tensor(tfidf_vectorizer_vectors.todense())"
   ]
  },
  {
   "cell_type": "code",
   "execution_count": 11,
   "id": "24cGZPfbLQL3",
   "metadata": {
    "executionInfo": {
     "elapsed": 16013,
     "status": "ok",
     "timestamp": 1651972339969,
     "user": {
      "displayName": "李映辰",
      "userId": "02446792374095967699"
     },
     "user_tz": -480
    },
    "id": "24cGZPfbLQL3"
   },
   "outputs": [],
   "source": [
    "# torch.save(tfidf, 'tfidf.pkl')\n",
    "# tfidf = torch.load('tfidf.pkl')"
   ]
  },
  {
   "cell_type": "code",
   "execution_count": 12,
   "id": "474877d3",
   "metadata": {
    "executionInfo": {
     "elapsed": 15437,
     "status": "ok",
     "timestamp": 1651991290516,
     "user": {
      "displayName": "李映辰",
      "userId": "02446792374095967699"
     },
     "user_tz": -480
    },
    "id": "474877d3"
   },
   "outputs": [],
   "source": [
    "concated = pd.concat((notes_filtered , pd.DataFrame(tfidf_vectorizer_vectors.todense())), axis=1)"
   ]
  },
  {
   "cell_type": "code",
   "execution_count": 13,
   "id": "2356ac9a",
   "metadata": {
    "id": "2356ac9a"
   },
   "outputs": [],
   "source": [
    "indexes = [i for i in range(2063)]\n",
    "concated['text_tfidf'] = concated[indexes].agg(list, axis=1)"
   ]
  },
  {
   "cell_type": "code",
   "execution_count": 14,
   "id": "V_IzCVAfWrcD",
   "metadata": {
    "id": "V_IzCVAfWrcD"
   },
   "outputs": [],
   "source": [
    "import torch\n",
    "concated['text_tfidf'] = concated['text_tfidf'].map(lambda x: torch.tensor(x))"
   ]
  },
  {
   "cell_type": "code",
   "execution_count": 20,
   "id": "1f0dd9fb",
   "metadata": {},
   "outputs": [],
   "source": [
    "concated_tmp = concated.drop(columns=indexes).reset_index(drop=True)"
   ]
  },
  {
   "cell_type": "code",
   "execution_count": 24,
   "id": "79bbeca9",
   "metadata": {},
   "outputs": [],
   "source": [
    "concated_tmp.to_pickle('text_tf_idf_1874862_2083180.pkl', protocol=4)"
   ]
  },
  {
   "cell_type": "code",
   "execution_count": null,
   "id": "40b7e21f",
   "metadata": {},
   "outputs": [],
   "source": []
  }
 ],
 "metadata": {
  "colab": {
   "collapsed_sections": [],
   "machine_shape": "hm",
   "name": "to_tfidf.ipynb",
   "provenance": []
  },
  "kernelspec": {
   "display_name": "Python 3 (ipykernel)",
   "language": "python",
   "name": "python3"
  },
  "language_info": {
   "codemirror_mode": {
    "name": "ipython",
    "version": 3
   },
   "file_extension": ".py",
   "mimetype": "text/x-python",
   "name": "python",
   "nbconvert_exporter": "python",
   "pygments_lexer": "ipython3",
   "version": "3.8.10"
  }
 },
 "nbformat": 4,
 "nbformat_minor": 5
}
